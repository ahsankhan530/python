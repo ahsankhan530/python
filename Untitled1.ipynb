{
 "cells": [
  {
   "cell_type": "code",
   "execution_count": 28,
   "metadata": {},
   "outputs": [
    {
     "data": {
      "text/plain": [
       "[{'market': 'BitFinex', 'price': '6971.50000000', 'volume': 59820.21599713},\n",
       " {'market': 'Bitstamp', 'price': '6940.71000000', 'volume': 18622.1792114},\n",
       " {'market': 'Bittrex', 'price': '6951.00000000', 'volume': 3515.27653606},\n",
       " {'market': 'C-Cex', 'price': '7301.16850002', 'volume': 1.38959449},\n",
       " {'market': 'Cex.io', 'price': '7058.00000000', 'volume': 1211.05157511},\n",
       " {'market': 'Exmo', 'price': '7129.91434925', 'volume': 344.77175934},\n",
       " {'market': 'Hitbtc', 'price': '7232.85000000', 'volume': 5827.34},\n",
       " {'market': 'Kraken', 'price': '6945.60000000', 'volume': 12604.83026842},\n",
       " {'market': 'Livecoin', 'price': '7370.00000000', 'volume': 1852.55719664},\n",
       " {'market': 'Poloniex', 'price': '6930.03646602', 'volume': 3138.63911236},\n",
       " {'market': 'wexnz', 'price': '7080.00100000', 'volume': 1020.2995},\n",
       " {'market': 'YoBit', 'price': '7299.12685799', 'volume': 136.35352333}]"
      ]
     },
     "execution_count": 28,
     "metadata": {},
     "output_type": "execute_result"
    }
   ],
   "source": [
    "a.loc['markets']['ticker']"
   ]
  },
  {
   "cell_type": "code",
   "execution_count": 10,
   "metadata": {},
   "outputs": [
    {
     "data": {
      "image/png": "[encoded data removed]",
      "text/plain": [
       "<matplotlib.figure.Figure at 0x1fa0a1710b8>"
      ]
     },
     "metadata": {},
     "output_type": "display_data"
    },
    {
     "name": "stdout",
     "output_type": "stream",
     "text": [
      "        error  success                                             ticker  \\\n",
      "base              True                                                BTC   \n",
      "change            True                                       -36.22436480   \n",
      "markets           True  [{'market': 'BitFinex', 'price': '7319.2000000...   \n",
      "price             True                                      7336.90158785   \n",
      "target            True                                                USD   \n",
      "volume            True                                     86307.37517960   \n",
      "\n",
      "          timestamp  \n",
      "base     1522733522  \n",
      "change   1522733522  \n",
      "markets  1522733522  \n",
      "price    1522733522  \n",
      "target   1522733522  \n",
      "volume   1522733522  \n"
     ]
    }
   ],
   "source": [
    "import pandas as pd\n",
    "import requests\n",
    "import matplotlib.pyplot as plt\n",
    "Url=requests.get('https://api.cryptonator.com/api/full/btc-usd').json()\n",
    "a=Url['ticker']['markets']\n",
    "df=pd.DataFrame(a)\n",
    "x=df['price'].astype(float)\n",
    "y=df['volume']\n",
    "z=df['market']\n",
    "for i,e in enumerate(z):\n",
    "    plt.annotate(e,(x[i],y[i]))\n",
    "plt.scatter(x,y)\n",
    "plt.show()\n",
    "print(b)"
   ]
  },
  {
   "cell_type": "code",
   "execution_count": null,
   "metadata": {
    "collapsed": true
   },
   "outputs": [],
   "source": []
  },
  {
   "cell_type": "code",
   "execution_count": null,
   "metadata": {
    "collapsed": true
   },
   "outputs": [],
   "source": []
  }
 ],
 "metadata": {
  "kernelspec": {
   "display_name": "Python 3",
   "language": "python",
   "name": "python3"
  },
  "language_info": {
   "codemirror_mode": {
    "name": "ipython",
    "version": 3
   },
   "file_extension": ".py",
   "mimetype": "text/x-python",
   "name": "python",
   "nbconvert_exporter": "python",
   "pygments_lexer": "ipython3",
   "version": "3.6.5"
  }
 },
 "nbformat": 4,
 "nbformat_minor": 2
}
